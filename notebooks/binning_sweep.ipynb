{
 "cells": [
  {
   "cell_type": "code",
   "execution_count": null,
   "id": "b4d1dd1b",
   "metadata": {},
   "outputs": [],
   "source": [
    "import os\n",
    "import sys\n",
    "import pandas as pd\n",
    "import matplotlib.pyplot as plt\n",
    "\n",
    "\n",
    "# 1. Set paths\n",
    "project_root = os.path.abspath(\"..\")  # Go up from notebooks/\n",
    "src_path = os.path.join(project_root, \"src\")\n",
    "data_path = os.path.join(project_root, \"data\", \"eq_catalog.csv\")\n",
    "\n",
    "#2. Add src to sys.path\n",
    "if src_path not in sys.path:\n",
    "    sys.path.append(src_path)\n",
    "\n",
    "#3. Import modules\n",
    "from preprocessing.load_catalog import load_catalog\n",
    "from binning.quadtree import apply_quadtree\n"
   ]
  },
  {
   "cell_type": "code",
   "execution_count": 2,
   "id": "22e5a701",
   "metadata": {},
   "outputs": [
    {
     "name": "stdout",
     "output_type": "stream",
     "text": [
      "📌 Catalog columns: ['id', 'latitude', 'longitude', 'depth', 'magnitude', 'Date_Time', 'origin_time']\n",
      "   min_events  max_depth  num_bins  num_events\n",
      "6         100          3        40        3509\n",
      "3          50          3        43        3509\n",
      "0          20          3        46        3509\n",
      "7         100          4        79        3509\n",
      "4          50          4       100        3509\n",
      "8         100          5       100        3509\n",
      "1          20          4       121        3509\n",
      "5          50          5       175        3509\n",
      "2          20          5       268        3509\n"
     ]
    }
   ],
   "source": [
    "#Load Catalog\n",
    "catalog, _ = load_catalog(data_path)\n",
    "\n",
    "\n",
    "# Run optimization tests\n",
    "results = []\n",
    "\n",
    "print(\"📌 Catalog columns:\", catalog.columns.tolist())\n",
    "\n",
    "for min_events in [20, 50, 100]:\n",
    "    for max_depth in [3, 4, 5]:\n",
    "        filtered_qt, region_qt, bounds_qt = apply_quadtree(\n",
    "            catalog,\n",
    "            min_events=min_events,\n",
    "            max_depth=max_depth\n",
    "        )\n",
    "\n",
    "        results.append({\n",
    "        'min_events': min_events,\n",
    "        'max_depth': max_depth,\n",
    "        'num_bins': len(bounds_qt),\n",
    "        'num_events': len(filtered_qt)  # ✅ fixed here\n",
    "        })\n",
    "\n",
    "\n",
    "# ✅ 6. Show results\n",
    "df = pd.DataFrame(results)\n",
    "df = df.sort_values(by='num_bins')\n",
    "print(df)"
   ]
  },
  {
   "cell_type": "code",
   "execution_count": null,
   "id": "7bda1fea",
   "metadata": {},
   "outputs": [
    {
     "ename": "NameError",
     "evalue": "name 'plt' is not defined",
     "output_type": "error",
     "traceback": [
      "\u001b[1;31m---------------------------------------------------------------------------\u001b[0m",
      "\u001b[1;31mNameError\u001b[0m                                 Traceback (most recent call last)",
      "Cell \u001b[1;32mIn[3], line 2\u001b[0m\n\u001b[0;32m      1\u001b[0m \u001b[38;5;66;03m# Plot\u001b[39;00m\n\u001b[1;32m----> 2\u001b[0m fig, ax \u001b[38;5;241m=\u001b[39m \u001b[43mplt\u001b[49m\u001b[38;5;241m.\u001b[39msubplots(figsize\u001b[38;5;241m=\u001b[39m(\u001b[38;5;241m8\u001b[39m, \u001b[38;5;241m6\u001b[39m))\n\u001b[0;32m      3\u001b[0m \u001b[38;5;28;01mfor\u001b[39;00m depth \u001b[38;5;129;01min\u001b[39;00m df[\u001b[38;5;124m'\u001b[39m\u001b[38;5;124mmax_depth\u001b[39m\u001b[38;5;124m'\u001b[39m]\u001b[38;5;241m.\u001b[39munique():\n\u001b[0;32m      4\u001b[0m     subset \u001b[38;5;241m=\u001b[39m df[df[\u001b[38;5;124m'\u001b[39m\u001b[38;5;124mmax_depth\u001b[39m\u001b[38;5;124m'\u001b[39m] \u001b[38;5;241m==\u001b[39m depth]\n",
      "\u001b[1;31mNameError\u001b[0m: name 'plt' is not defined"
     ]
    }
   ],
   "source": [
    "# Plot\n",
    "fig, ax = plt.subplots(figsize=(8, 6))\n",
    "for depth in df['max_depth'].unique():\n",
    "    subset = df[df['max_depth'] == depth]\n",
    "    ax.plot(subset['min_events'], subset['num_bins'], marker='o', label=f'depth={depth}')\n",
    "ax.set_xlabel('min_events')\n",
    "ax.set_ylabel('num_bins')\n",
    "ax.set_title('Quadtree Bin Count vs Parameters')\n",
    "ax.legend()\n",
    "plt.grid(True)\n",
    "plt.show()"
   ]
  }
 ],
 "metadata": {
  "kernelspec": {
   "display_name": "csep_env",
   "language": "python",
   "name": "python3"
  },
  "language_info": {
   "codemirror_mode": {
    "name": "ipython",
    "version": 3
   },
   "file_extension": ".py",
   "mimetype": "text/x-python",
   "name": "python",
   "nbconvert_exporter": "python",
   "pygments_lexer": "ipython3",
   "version": "3.10.18"
  }
 },
 "nbformat": 4,
 "nbformat_minor": 5
}
